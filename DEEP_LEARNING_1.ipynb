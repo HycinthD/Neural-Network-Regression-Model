{
  "nbformat": 4,
  "nbformat_minor": 0,
  "metadata": {
    "colab": {
      "provenance": []
    },
    "kernelspec": {
      "name": "python3",
      "display_name": "Python 3"
    },
    "language_info": {
      "name": "python"
    }
  },
  "cells": [
    {
      "cell_type": "code",
      "execution_count": null,
      "metadata": {
        "id": "vJ7y_HztQTcg"
      },
      "outputs": [],
      "source": [
        "import torch\n",
        "import torch.nn as nn\n",
        "import torch.optim as optim\n",
        "import pandas as pd\n",
        "from sklearn.model_selection import train_test_split\n",
        "from sklearn.preprocessing import MinMaxScaler"
      ]
    },
    {
      "cell_type": "code",
      "source": [
        "dataset1 = pd.read_csv('DEEP.csv')\n",
        "X = dataset1[['INPUT']].values\n",
        "y = dataset1[['OUTPUT']].values"
      ],
      "metadata": {
        "id": "Vv0SksQKUzIe"
      },
      "execution_count": null,
      "outputs": []
    },
    {
      "cell_type": "code",
      "source": [
        "X_train, X_test, y_train, y_test = train_test_split(X, y, test_size=0.33, random_state=33)"
      ],
      "metadata": {
        "id": "LumxpYsBXAYZ"
      },
      "execution_count": null,
      "outputs": []
    },
    {
      "cell_type": "code",
      "source": [
        "scaler = MinMaxScaler()\n",
        "X_train = scaler.fit_transform(X_train)\n",
        "X_test = scaler.transform(X_test)"
      ],
      "metadata": {
        "id": "vgoq6Af6XFtn"
      },
      "execution_count": null,
      "outputs": []
    },
    {
      "cell_type": "code",
      "source": [
        "X_train_tensor = torch.tensor(X_train, dtype=torch.float32)\n",
        "y_train_tensor = torch.tensor(y_train, dtype=torch.float32).view(-1, 1)\n",
        "X_test_tensor = torch.tensor(X_test, dtype=torch.float32)\n",
        "y_test_tensor = torch.tensor(y_test, dtype=torch.float32).view(-1, 1)"
      ],
      "metadata": {
        "id": "arO-TfreXJuG"
      },
      "execution_count": null,
      "outputs": []
    },
    {
      "cell_type": "code",
      "source": [
        "class NeuralNet(nn.Module):\n",
        "  def __init__(self):\n",
        "    super().__init__()\n",
        "    self.fc1 = nn.Linear(1, 8)\n",
        "    self.fc2 = nn.Linear(8, 10)\n",
        "    self.fc3 = nn.Linear(10, 1)\n",
        "    self.relu = nn.ReLU()\n",
        "    self.history = {'loss':[]}\n",
        "\n",
        "  def forward(self, x):\n",
        "    x = self.relu(self.fc1(x))\n",
        "    x = self.relu(self.fc2(x))\n",
        "    x = self.fc3(x)\n",
        "    return x"
      ],
      "metadata": {
        "id": "YqnOl9s8RzPe"
      },
      "execution_count": null,
      "outputs": []
    },
    {
      "cell_type": "code",
      "source": [
        "ai_brain = NeuralNet()\n",
        "print(list(ai_brain.parameters()))\n",
        "criterion = nn.MSELoss()\n",
        "optimizer = optim.RMSprop(ai_brain.parameters(), lr=0.001)"
      ],
      "metadata": {
        "id": "MsXJNMenSqFA",
        "colab": {
          "base_uri": "https://localhost:8080/"
        },
        "outputId": "9aaba3f5-9969-4018-bce9-2a18ebad41bd"
      },
      "execution_count": null,
      "outputs": [
        {
          "output_type": "stream",
          "name": "stdout",
          "text": [
            "[Parameter containing:\n",
            "tensor([[ 0.8175],\n",
            "        [ 0.8879],\n",
            "        [-0.0218],\n",
            "        [ 0.1119],\n",
            "        [ 0.4093],\n",
            "        [-0.9845],\n",
            "        [ 0.6153],\n",
            "        [-0.5583]], requires_grad=True), Parameter containing:\n",
            "tensor([-0.1509,  0.8424, -0.4047, -0.8154, -0.4957,  0.7299,  0.9459, -0.2390],\n",
            "       requires_grad=True), Parameter containing:\n",
            "tensor([[-0.2640, -0.2890,  0.3170,  0.3400, -0.0825,  0.0292, -0.1664,  0.1449],\n",
            "        [ 0.2578, -0.2860, -0.2241,  0.0102,  0.2807,  0.0691,  0.2159, -0.0762],\n",
            "        [-0.0493, -0.3129,  0.2554,  0.2529, -0.1152,  0.1849, -0.1287, -0.0276],\n",
            "        [-0.3156, -0.0733,  0.2732, -0.1510, -0.1098, -0.2338,  0.1270, -0.0197],\n",
            "        [ 0.2106,  0.0368, -0.0693, -0.0328, -0.0336,  0.2634, -0.1511,  0.1680],\n",
            "        [ 0.0035,  0.3297, -0.1051, -0.0814,  0.1405,  0.2828, -0.0144, -0.2576],\n",
            "        [ 0.2224,  0.2763, -0.3409,  0.3506,  0.1365,  0.0389, -0.2709, -0.0455],\n",
            "        [-0.0204,  0.0076,  0.0579,  0.3302, -0.0122,  0.0938, -0.2574, -0.0809],\n",
            "        [ 0.2709,  0.3396, -0.0083,  0.1200, -0.2667, -0.1807,  0.0793, -0.0121],\n",
            "        [ 0.2485, -0.3387, -0.0130, -0.1091, -0.0562,  0.1965,  0.3322,  0.1061]],\n",
            "       requires_grad=True), Parameter containing:\n",
            "tensor([-0.3261,  0.2387,  0.1205, -0.0492, -0.0733, -0.3150,  0.0712, -0.2191,\n",
            "        -0.2588, -0.2012], requires_grad=True), Parameter containing:\n",
            "tensor([[ 0.1996,  0.2174, -0.2907, -0.0664, -0.1783,  0.2025, -0.2215,  0.2399,\n",
            "         -0.0408, -0.1406]], requires_grad=True), Parameter containing:\n",
            "tensor([0.0442], requires_grad=True)]\n"
          ]
        }
      ]
    },
    {
      "cell_type": "code",
      "source": [
        "def train_model(ai_brain, X_train, y_train, criterion, optimizer, epochs=2000):\n",
        "    for epoch in range(epochs):\n",
        "        optimizer.zero_grad()  # Clear previous gradients\n",
        "        loss = criterion(ai_brain(X_train), y_train)  # Compute loss\n",
        "        loss.backward()  # Backpropagation\n",
        "        optimizer.step()  # Update weights\n",
        "\n",
        "        # Store loss for visualization\n",
        "        ai_brain.history['loss'].append(loss.item())\n",
        "\n",
        "        # Print loss every 200 epochs\n",
        "        if epoch % 200 == 0:\n",
        "            print(f'Epoch [{epoch}/{epochs}], Loss: {loss.item():.6f}')"
      ],
      "metadata": {
        "id": "_DPZpJjcXQAJ"
      },
      "execution_count": null,
      "outputs": []
    },
    {
      "cell_type": "code",
      "source": [
        "train_model(ai_brain, X_train_tensor, y_train_tensor, criterion, optimizer)"
      ],
      "metadata": {
        "colab": {
          "base_uri": "https://localhost:8080/"
        },
        "id": "Z94LboWzMhJr",
        "outputId": "07a33c9b-ebe6-4465-cd12-c5cc259ddb9c"
      },
      "execution_count": null,
      "outputs": [
        {
          "output_type": "stream",
          "name": "stdout",
          "text": [
            "Epoch [0/2000], Loss: 18.067419\n",
            "Epoch [200/2000], Loss: 0.180180\n",
            "Epoch [400/2000], Loss: 0.113935\n",
            "Epoch [600/2000], Loss: 0.032853\n",
            "Epoch [800/2000], Loss: 0.000998\n",
            "Epoch [1000/2000], Loss: 0.000000\n",
            "Epoch [1200/2000], Loss: 0.000002\n",
            "Epoch [1400/2000], Loss: 0.000138\n",
            "Epoch [1600/2000], Loss: 0.000183\n",
            "Epoch [1800/2000], Loss: 0.000251\n"
          ]
        }
      ]
    },
    {
      "cell_type": "code",
      "source": [
        "with torch.no_grad():\n",
        "    test_loss = criterion(ai_brain(X_test_tensor), y_test_tensor)\n",
        "    print(f'Test Loss: {test_loss.item():.6f}')"
      ],
      "metadata": {
        "colab": {
          "base_uri": "https://localhost:8080/"
        },
        "id": "8zcpNZDDPDib",
        "outputId": "4a72b29b-8eb6-40de-91f6-b213aafefe4e"
      },
      "execution_count": null,
      "outputs": [
        {
          "output_type": "stream",
          "name": "stdout",
          "text": [
            "Test Loss: 6173.794434\n"
          ]
        }
      ]
    },
    {
      "cell_type": "code",
      "source": [
        "loss_df = pd.DataFrame(ai_brain.history)"
      ],
      "metadata": {
        "id": "ULyqVSUNPnXa"
      },
      "execution_count": null,
      "outputs": []
    },
    {
      "cell_type": "code",
      "source": [
        "import matplotlib.pyplot as plt\n",
        "loss_df.plot()\n",
        "plt.xlabel(\"Epochs\")\n",
        "plt.ylabel(\"Loss\")\n",
        "plt.title(\"Loss during Training\")\n",
        "plt.show()"
      ],
      "metadata": {
        "colab": {
          "base_uri": "https://localhost:8080/",
          "height": 472
        },
        "id": "vZ_tqgGPPzp9",
        "outputId": "332c5e48-063f-466d-9325-43ba060a0bf0"
      },
      "execution_count": null,
      "outputs": [
        {
          "output_type": "display_data",
          "data": {
            "text/plain": [
              "<Figure size 640x480 with 1 Axes>"
            ],
            "image/png": "[encoded data removed]"
          },
          "metadata": {}
        }
      ]
    },
    {
      "cell_type": "code",
      "source": [
        "X_n1_1 = torch.tensor([[9]], dtype=torch.float32)\n",
        "prediction = ai_brain(torch.tensor(scaler.transform(X_n1_1), dtype=torch.float32)).item()\n",
        "print(f'Prediction: {prediction}')\n"
      ],
      "metadata": {
        "id": "hlJZY84mP3cR",
        "outputId": "7876dff2-1f3a-425c-8ff0-adc250bb1a8b",
        "colab": {
          "base_uri": "https://localhost:8080/"
        }
      },
      "execution_count": null,
      "outputs": [
        {
          "output_type": "stream",
          "name": "stdout",
          "text": [
            "Prediction: 2.008521318435669\n"
          ]
        }
      ]
    }
  ]
}